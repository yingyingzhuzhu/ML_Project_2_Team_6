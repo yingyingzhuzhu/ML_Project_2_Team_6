{
 "cells": [
  {
   "cell_type": "code",
   "execution_count": 24,
   "metadata": {
    "collapsed": true
   },
   "outputs": [],
   "source": [
    "import scipy.io as scipy\n",
    "import numpy as np\n",
    "from sklearn.model_selection import KFold\n",
    "from sklearn.model_selection import train_test_split\n",
    "from sklearn.gaussian_process import GaussianProcessClassifier\n",
    "from sklearn.gaussian_process.kernels import RBF\n",
    "from time import time\n",
    "from sklearn.decomposition import PCA\n",
    "from sklearn.metrics import classification_report\n",
    "from sklearn.metrics import confusion_matrix\n",
    "from sklearn.gaussian_process import GaussianProcessRegressor"
   ]
  },
  {
   "cell_type": "code",
   "execution_count": 25,
   "metadata": {},
   "outputs": [
    {
     "name": "stdout",
     "output_type": "stream",
     "text": [
      "(25000, 60)\n"
     ]
    }
   ],
   "source": [
    "mat1 = scipy.loadmat('Proj2FeatVecsSet1.mat')\n",
    "mat2 = scipy.loadmat('Proj2TargetOutputsSet1.mat')\n",
    "data_set =  mat1['Proj2FeatVecsSet1']\n",
    "data_target = mat2['Proj2TargetOutputsSet1']\n",
    "\n",
    "print data_set.shape"
   ]
  },
  {
   "cell_type": "code",
   "execution_count": 26,
   "metadata": {},
   "outputs": [
    {
     "name": "stdout",
     "output_type": "stream",
     "text": [
      "(25000, 9)\n"
     ]
    }
   ],
   "source": [
    "pca = PCA(n_components=9)\n",
    "reduced_data = pca.fit_transform(data_set)\n",
    "print reduced_data.shape"
   ]
  },
  {
   "cell_type": "code",
   "execution_count": 27,
   "metadata": {
    "scrolled": true
   },
   "outputs": [
    {
     "name": "stdout",
     "output_type": "stream",
     "text": [
      "(25000, 5)\n"
     ]
    }
   ],
   "source": [
    "print data_target.shape"
   ]
  },
  {
   "cell_type": "code",
   "execution_count": 28,
   "metadata": {},
   "outputs": [
    {
     "name": "stdout",
     "output_type": "stream",
     "text": [
      "(25000,)\n"
     ]
    }
   ],
   "source": [
    "number_labels = []\n",
    "for ars in data_target:\n",
    "    if np.all(ars == [1, -1, -1, -1, -1]):\n",
    "        ars = 1\n",
    "        number_labels.append(ars)\n",
    "    elif np.all(ars == [-1, 1, -1, -1, -1]):\n",
    "        ars = 2\n",
    "        number_labels.append(ars)\n",
    "    elif np.all(ars == [-1, -1, 1, -1, -1]):\n",
    "        ars = 3\n",
    "        number_labels.append(ars)\n",
    "    elif np.all(ars == [-1, -1, -1, 1, -1]):\n",
    "        ars = 4\n",
    "        number_labels.append(ars)\n",
    "    elif np.all(ars == [-1, -1, -1, -1, 1]):\n",
    "        ars = 5\n",
    "        number_labels.append(ars)\n",
    "\n",
    "number_labels = np.asarray(number_labels)\n",
    "\n",
    "print number_labels.shape"
   ]
  },
  {
   "cell_type": "code",
   "execution_count": 29,
   "metadata": {},
   "outputs": [
    {
     "name": "stdout",
     "output_type": "stream",
     "text": [
      "[1 1 1 ..., 5 5 5]\n"
     ]
    }
   ],
   "source": [
    "print number_labels"
   ]
  },
  {
   "cell_type": "code",
   "execution_count": 30,
   "metadata": {},
   "outputs": [
    {
     "name": "stdout",
     "output_type": "stream",
     "text": [
      "(20000, 9)\n",
      "(5000, 9)\n",
      "(20000,)\n",
      "(5000,)\n"
     ]
    }
   ],
   "source": [
    "X_train, X_test, y_train, y_test = train_test_split(\n",
    "    reduced_data, number_labels, test_size=0.20, stratify = data_target)#, random_state=39)\n",
    "print X_train.shape\n",
    "print X_test.shape\n",
    "print y_train.shape\n",
    "print y_test.shape\n"
   ]
  },
  {
   "cell_type": "code",
   "execution_count": 31,
   "metadata": {
    "collapsed": true
   },
   "outputs": [],
   "source": [
    "# print 'started training'\n",
    "# t0 = time()\n",
    "# clf = GaussianProcessClassifier(multi_class='one_vs_rest')\n",
    "# clf.fit(X_test,y_test)\n",
    "# print 'ok'\n",
    "# print time()-t0"
   ]
  },
  {
   "cell_type": "code",
   "execution_count": 32,
   "metadata": {
    "collapsed": true
   },
   "outputs": [],
   "source": [
    "# y_pred = clf.predict(X_train)\n",
    "# print y_pred.shape\n",
    "# print(classification_report(y_train, y_pred))\n",
    "# print(confusion_matrix(y_train, y_pred))"
   ]
  },
  {
   "cell_type": "code",
   "execution_count": 33,
   "metadata": {
    "collapsed": true
   },
   "outputs": [],
   "source": [
    "# X_train_1 = X_train[:4999]\n",
    "# X_train_2 = X_train[5000:9999]\n",
    "# X_train_3 = X_train[10000:14999]\n",
    "# X_train_4 = X_train[15000:20000]\n",
    "# y_train_1 = y_train[:4999]\n",
    "# y_train_2 = y_train[5000:9999]\n",
    "# y_train_3 = y_train[10000:14999]\n",
    "# y_train_4 = y_train[15000:20000]"
   ]
  },
  {
   "cell_type": "code",
   "execution_count": 34,
   "metadata": {
    "collapsed": true
   },
   "outputs": [],
   "source": [
    "from sklearn.multiclass import OneVsOneClassifier"
   ]
  },
  {
   "cell_type": "code",
   "execution_count": 35,
   "metadata": {
    "collapsed": true
   },
   "outputs": [],
   "source": [
    "# print(\"Fitting the classifier to the training set\")\n",
    "# t0 = time()\n",
    "# clf = OneVsOneClassifier(GaussianProcessClassifier())#kernel = kernel, alpha = 1e-10)#kernel=kernel) # Uses RBF as default\n",
    "# clf.fit(X_train_1, y_train_1)\n",
    "# print(\"done in %0.3fs\" % (time() - t0))"
   ]
  },
  {
   "cell_type": "code",
   "execution_count": 36,
   "metadata": {
    "collapsed": true
   },
   "outputs": [],
   "source": [
    "# print(\"Predicting class on the test set\")\n",
    "# t0 = time()\n",
    "# y_pred = clf.predict(X_test)\n",
    "# print(\"done in %0.3fs\" % (time() - t0))\n",
    "# print(classification_report(y_test, y_pred))\n",
    "# print(confusion_matrix(y_test, y_pred))"
   ]
  },
  {
   "cell_type": "code",
   "execution_count": 37,
   "metadata": {},
   "outputs": [
    {
     "name": "stdout",
     "output_type": "stream",
     "text": [
      "Fitting the classifier to the training set\n",
      "done in 1.302s\n",
      "Fitting the classifier to the training set\n",
      "done in 1.204s\n",
      "Fitting the classifier to the training set\n",
      "done in 8.652s\n",
      "Fitting the classifier to the training set\n",
      "done in 1.387s\n",
      "Fitting the classifier to the training set\n",
      "done in 1.307s\n",
      "Fitting the classifier to the training set\n",
      "done in 8.326s\n",
      "Fitting the classifier to the training set\n",
      "done in 1.397s\n",
      "Fitting the classifier to the training set\n",
      "done in 1.283s\n",
      "Fitting the classifier to the training set\n",
      "done in 7.857s\n",
      "Fitting the classifier to the training set\n",
      "done in 1.238s\n",
      "Fitting the classifier to the training set\n",
      "done in 1.162s\n",
      "Fitting the classifier to the training set\n",
      "done in 7.553s\n",
      "Fitting the classifier to the training set\n",
      "done in 1.224s\n",
      "Fitting the classifier to the training set\n",
      "done in 1.139s\n",
      "Fitting the classifier to the training set\n",
      "done in 7.752s\n",
      "[array([[803,   8,   2,   4,   1],\n",
      "       [  7, 728,   5,  67,   2],\n",
      "       [  5,   0, 748,   0,  29],\n",
      "       [  5,  62,   3, 695,  24],\n",
      "       [  0,   2,  27,  18, 755]]), array([[738,   7,   5,   1,   2],\n",
      "       [  4, 737,   0,  73,   1],\n",
      "       [  6,  14, 785,   5,  22],\n",
      "       [  6,  60,   7, 719,  26],\n",
      "       [  6,   3,  23,  18, 732]]), array([[771,  13,   9,   1,   1],\n",
      "       [  6, 766,   1,  56,   1],\n",
      "       [  6,  12, 678,   4,  25],\n",
      "       [  4,  56,   3, 729,  17],\n",
      "       [  4,   1,  24,  29, 783]]), array([[776,  12,  12,   4,   1],\n",
      "       [  7, 683,   2,  68,   1],\n",
      "       [ 13,  10, 816,   4,  14],\n",
      "       [  3,  49,   8, 708,  19],\n",
      "       [  4,   3,  21,  21, 741]]), array([[816,   8,   2,   1,   2],\n",
      "       [  6, 711,   3,  64,   1],\n",
      "       [  8,  10, 759,   2,  25],\n",
      "       [  4,  47,   5, 727,  14],\n",
      "       [  6,   2,  17,  14, 746]])]\n"
     ]
    }
   ],
   "source": [
    "from sklearn.model_selection import KFold\n",
    "import glob\n",
    "import os\n",
    "# Not sure if this is the correct type of function we need\n",
    "def TrainMyClassifier(XEstimate, YEstimate, XValidate, TrainMyClassifierParameters):\n",
    "    from sklearn.svm import SVC\n",
    "#     from skrvm import RVC\n",
    "    from sklearn.gaussian_process import GaussianProcessClassifier\n",
    "    from sklearn.multiclass import OneVsOneClassifier\n",
    "    from sklearn.model_selection import GridSearchCV\n",
    "    from sklearn.gaussian_process.kernels import RBF\n",
    "    from time import time\n",
    "    t0 = time()\n",
    "    # Paramaters should have this shape in order for it to work ==>  Parameters = {'C': [1e3, 1e4, 1e5], 'gamma': [0.001, 0.01, 0.1] }\n",
    "    if TrainMyClassifierParameters[1] == 'SVM':\n",
    "        # ################################################\n",
    "        # Train a SVM classification model\n",
    "        print(\"Fitting the classifier to the training set\")\n",
    "        param_grid = TrainMyClassifierParameters[0]\n",
    "        clf = OneVsOneClassifier(GridSearchCV(SVC(kernel='rbf', class_weight='balanced'), param_grid))\n",
    "        clf = clf.fit(XEstimate, YEstimate)\n",
    "        y_pred = clf.predict(XValidate)\n",
    "        scores = clf.score(XEstimate,YEstimate)\n",
    "        print(\"done in %0.3fs\" % (time() - t0))\n",
    "        return y_pred, scores\n",
    "    elif TrainMyClassifierParameters[1] == 'RVM':\n",
    "        # #############################################################################\n",
    "        # Train a RVM classification model\n",
    "        print(\"Fitting the classifier to the training set\")\n",
    "        t0 = time()\n",
    "        param_grid = TrainMyClassifierParameters[0]\n",
    "        clf = OneVsOneClassifier(GridSearchCV(RVC(kernel='rbf',n_iter=1), param_grid))\n",
    "        clf.fit(XEstimate, YEstimate)\n",
    "        y_pred = clf.predict(XValidate)\n",
    "        scores = clf.score(XEstimate,YEstimate)\n",
    "        print(\"done in %0.3fs\" % (time() - t0))\n",
    "        return y_pred, scores\n",
    "    elif TrainMyClassifierParameters[1] == 'GP':\n",
    "       # #############################################################################\n",
    "        # Train a GP classification model\n",
    "        print(\"Fitting the classifier to the training set\")\n",
    "        t0 = time()\n",
    "        param_grid = TrainMyClassifierParameters[0]['length_scale']\n",
    "        k_rbf = RBF(length_scale=param_grid)\n",
    "        clf = OneVsOneClassifier(GaussianProcessClassifier(kernel = k_rbf))\n",
    "        clf.fit(X_train_1, y_train_1)\n",
    "        y_pred = clf.predict(XValidate)\n",
    "        scores = clf.score(XEstimate,YEstimate)\n",
    "        print(\"done in %0.3fs\" % (time() - t0))\n",
    "        return y_pred, scores\n",
    "    else:\n",
    "        print(\"Incorrect type of algorithm, please use only one of the supported classifiers SVM, RVM, GP\")\n",
    "\n",
    "def MyCrossValidate(XTrain,YTrain2,Nf,Algorithm):\n",
    "    dict = {} \n",
    "    \n",
    "    pca = PCA(n_components=9)\n",
    "    reduced_data = pca.fit_transform(XTrain)\n",
    "    #print reduced_data.shape\n",
    "    kf = KFold(n_splits=Nf)\n",
    "    kf.get_n_splits(XTrain)\n",
    "    EstParameters = []\n",
    "    EstConfMatrices = []\n",
    "    ConfMatrix=[]\n",
    "    YTrain = []\n",
    "    i=0        \n",
    "    for train_index, test_index in kf.split(XTrain):\n",
    "        # print(\"TRAIN:\", train_index, \"TEST:\", test_index)\n",
    "        XEst1 = XTrain[train_index]\n",
    "        YEst1 = YTrain2[train_index]      \n",
    "        XValid = XTrain[test_index]\n",
    "        YValid = YTrain2[test_index]          \n",
    "        XEst = XEst1[:4000]\n",
    "        YEst = YEst1[:4000]\n",
    "        TrainMyClassifierParameters = []\n",
    "        TrainMyClassifierParameters.append({'C': [1e3], 'gamma': [0.001] })\n",
    "        TrainMyClassifierParameters.append(Algorithm)\n",
    "        y_pred1, scores1 = TrainMyClassifier(XEst,YEst,XValid,TrainMyClassifierParameters)\n",
    "        TrainMyClassifierParameters[0] = {'C': [1e4], 'gamma': [0.01]}\n",
    "        y_pred2, scores2 = TrainMyClassifier(XEst,YEst,XValid,TrainMyClassifierParameters)\n",
    "        TrainMyClassifierParameters[0] = {'C': [1e5], 'gamma': [0.1]}\n",
    "        y_pred3, scores3 = TrainMyClassifier(XEst,YEst,XValid,TrainMyClassifierParameters)\n",
    "        if max(scores1,scores2,scores3)==scores1:\n",
    "            y_pred = y_pred1\n",
    "            dict[i]= {'scores':[scores1,scores2,scores3],'C': [1e3], 'gamma': [0.001]}\n",
    "        elif max(scores1,scores2,scores3)==scores2:\n",
    "            y_pred = y_pred2\n",
    "            dict[i]= {'scores':[scores1,scores2,scores3],'C': [1e4], 'gamma': [0.01]}\n",
    "        elif max(scores1,scores2,scores3)==scores3:\n",
    "            y_pred = y_pred3  \n",
    "            dict[i]= {'scores':[scores1,scores2,scores3],'C': [1e5], 'gamma': [0.1]}\n",
    "        confMatrix = MyConfusionMatrix(y_pred,YValid)\n",
    "        EstConfMatrices.append(confMatrix)\n",
    "#         EstParameters.append(params)\n",
    "        YTrain.append(y_pred)\n",
    "        i=i+1\n",
    "#         y_pred, params = TrainMyClassifier(XEst,YEst,XValid,Algorithm,{'C': [1], 'gamma': [1] })\n",
    "#         confMatrix = MyConfusionMatrix(y_pred,YValid)\n",
    "#         EstConfMatrices.append(confMatrix)\n",
    "#         EstParameters.append(params)\n",
    "#         YTrain.append(y_pred)\n",
    "    np.save(Algorithm+'.npy',dict)\n",
    "    return YTrain,EstParameters, EstConfMatrices,ConfMatrix\n",
    "def MyConfusionMatrix(Y,ClassNames):\n",
    "        return confusion_matrix(ClassNames,Y)\n",
    "       \n",
    "YTrain,EstParameters, EstConfMatrices,ConfMatrix = MyCrossValidate(X_train,y_train,5,'SVM')\n",
    "print EstConfMatrices\n",
    "        \n",
    "        "
   ]
  },
  {
   "cell_type": "code",
   "execution_count": 22,
   "metadata": {},
   "outputs": [],
   "source": [
    "# TrainMyClassifierParameters = []\n",
    "# TrainMyClassifierParameters.append({'C': [1], 'gamma': [1] })\n",
    "# TrainMyClassifierParameters.append('SVM')\n",
    "# TrainMyClassifierParameters[0] = {'C': [2], 'gamma': [2]}\n",
    "# print TrainMyClassifierParameters[0]\n"
   ]
  },
  {
   "cell_type": "code",
   "execution_count": 23,
   "metadata": {},
   "outputs": [
    {
     "name": "stdout",
     "output_type": "stream",
     "text": [
      "{0: {'C': [100000.0], 'gamma': [0.1], 'scores': [0.9365, 0.94999999999999996, 0.97875000000000001]}, 1: {'C': [100000.0], 'gamma': [0.1], 'scores': [0.92825000000000002, 0.94199999999999995, 0.97650000000000003]}, 2: {'C': [100000.0], 'gamma': [0.1], 'scores': [0.92825000000000002, 0.94199999999999995, 0.97650000000000003]}, 3: {'C': [100000.0], 'gamma': [0.1], 'scores': [0.92825000000000002, 0.94199999999999995, 0.97650000000000003]}, 4: {'C': [100000.0], 'gamma': [0.1], 'scores': [0.92825000000000002, 0.94199999999999995, 0.97650000000000003]}}\n"
     ]
    }
   ],
   "source": [
    "read_dictionary = np.load('SVM.npy').item()\n",
    "print read_dictionary"
   ]
  },
  {
   "cell_type": "code",
   "execution_count": null,
   "metadata": {},
   "outputs": [],
   "source": []
  },
  {
   "cell_type": "code",
   "execution_count": null,
   "metadata": {
    "collapsed": true
   },
   "outputs": [],
   "source": []
  },
  {
   "cell_type": "code",
   "execution_count": null,
   "metadata": {
    "collapsed": true
   },
   "outputs": [],
   "source": []
  },
  {
   "cell_type": "code",
   "execution_count": null,
   "metadata": {
    "collapsed": true
   },
   "outputs": [],
   "source": []
  },
  {
   "cell_type": "code",
   "execution_count": null,
   "metadata": {
    "collapsed": true
   },
   "outputs": [],
   "source": []
  },
  {
   "cell_type": "code",
   "execution_count": null,
   "metadata": {
    "collapsed": true
   },
   "outputs": [],
   "source": []
  },
  {
   "cell_type": "code",
   "execution_count": null,
   "metadata": {
    "collapsed": true
   },
   "outputs": [],
   "source": []
  },
  {
   "cell_type": "code",
   "execution_count": null,
   "metadata": {
    "collapsed": true
   },
   "outputs": [],
   "source": []
  }
 ],
 "metadata": {
  "kernelspec": {
   "display_name": "Python 2",
   "language": "python",
   "name": "python2"
  },
  "language_info": {
   "codemirror_mode": {
    "name": "ipython",
    "version": 2
   },
   "file_extension": ".py",
   "mimetype": "text/x-python",
   "name": "python",
   "nbconvert_exporter": "python",
   "pygments_lexer": "ipython2",
   "version": "2.7.14"
  }
 },
 "nbformat": 4,
 "nbformat_minor": 2
}
