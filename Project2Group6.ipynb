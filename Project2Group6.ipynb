{
 "cells": [
  {
   "cell_type": "code",
   "execution_count": 1,
   "metadata": {
    "collapsed": true
   },
   "outputs": [],
   "source": [
    "import scipy.io as scipy\n",
    "import numpy as np\n",
    "from time import time\n",
    "from sklearn.model_selection import KFold\n",
    "from sklearn.model_selection import train_test_split\n",
    "from sklearn.svm import SVC\n",
    "from skrvm import RVC\n",
    "from sklearn.gaussian_process import GaussianProcessClassifier\n",
    "from sklearn.gaussian_process.kernels import RBF\n",
    "from sklearn.decomposition import PCA\n",
    "from sklearn.metrics import classification_report\n",
    "from sklearn.metrics import confusion_matrix\n",
    "from sklearn.metrics import accuracy_score\n",
    "import pandas as pd"
   ]
  },
  {
   "cell_type": "markdown",
   "metadata": {},
   "source": [
    "## TrainMyClassifier function"
   ]
  },
  {
   "cell_type": "code",
   "execution_count": 2,
   "metadata": {
    "collapsed": true
   },
   "outputs": [],
   "source": [
    "def TrainMyClassifier(XEstimate, YEstimate, XValidate, TrainMyClassifierParameters):\n",
    "    t0 = time()\n",
    "    if TrainMyClassifierParameters[1] == 'SVM':\n",
    "        # ################################################\n",
    "        # Train a SVM classification model\n",
    "        print(\"Fitting the classifier to the training set\")\n",
    "        param_grid = TrainMyClassifierParameters[0]\n",
    "        clf = SVC(probability=True, kernel='rbf', class_weight='balanced', decision_function_shape = 'ovo',**TrainMyClassifierParameters[0])\n",
    "        clf = clf.fit(XEstimate, YEstimate)\n",
    "        y_pred = clf.predict(XValidate)\n",
    "        scores = clf.score(XEstimate,YEstimate)\n",
    "        params = clf\n",
    "        print(\"done in %0.3fs\" % (time() - t0))\n",
    "        return y_pred, scores, params\n",
    "    elif TrainMyClassifierParameters[1] == 'RVM':\n",
    "        # #############################################################################\n",
    "        # Train a RVM classification model\n",
    "        print(\"Fitting the classifier to the training set\")\n",
    "        t0 = time()\n",
    "        clf = RVC(kernel='rbf',n_iter=1,**TrainMyClassifierParameters[0])\n",
    "        clf.fit(XEstimate, YEstimate)\n",
    "        y_pred = clf.predict(XValidate)\n",
    "        scores = clf.score(XEstimate,YEstimate)\n",
    "        params = clf\n",
    "        print(\"done in %0.3fs\" % (time() - t0))\n",
    "        return y_pred, scores, params\n",
    "    elif TrainMyClassifierParameters[1] == 'GP':\n",
    "       # #############################################################################\n",
    "        # Train a GP classification model\n",
    "        print(\"Fitting the classifier to the training set\")\n",
    "        t0 = time()\n",
    "        k_rbf = 1 * RBF(length_scale=TrainMyClassifierParameters[0]['length_scale'])\n",
    "        clf = GaussianProcessClassifier(kernel = k_rbf, multi_class = 'one_vs_one')\n",
    "        clf.fit(XEstimate, YEstimate)\n",
    "        y_pred = clf.predict(XValidate)\n",
    "        scores = clf.score(XEstimate,YEstimate)\n",
    "        params = clf\n",
    "        print(\"done in %0.3fs\" % (time() - t0))\n",
    "        return y_pred, scores, params\n",
    "    else:\n",
    "        print(\"Incorrect type of algorithm, please use only one of the supported classifiers SVM, RVM, GP\")"
   ]
  },
  {
   "cell_type": "markdown",
   "metadata": {},
   "source": [
    "## MyCrossValidate function"
   ]
  },
  {
   "cell_type": "code",
   "execution_count": 3,
   "metadata": {
    "collapsed": true
   },
   "outputs": [],
   "source": [
    "def MyCrossValidate(XTrain,YTrain2,Nf,Algorithm):   \n",
    "    pca = PCA(n_components=9)\n",
    "    reduced_data = pca.fit_transform(XTrain)\n",
    "    #nfold of 5\n",
    "    kf = KFold(n_splits=Nf)\n",
    "    kf.get_n_splits(XTrain)\n",
    "    EstParameters = []\n",
    "    EstConfMatrices = []\n",
    "    ConfMatrix=np.zeros((5,5),dtype=int)\n",
    "    YTrain = []\n",
    "    i=0        \n",
    "    for train_index, test_index in kf.split(XTrain):\n",
    "        \n",
    "        XEst1 = XTrain[train_index]\n",
    "        YEst1 = YTrain2[train_index]      \n",
    "        XValid = XTrain[test_index]\n",
    "        YValid = YTrain2[test_index]  \n",
    "        # down-sampling to 8000\n",
    "        XEst = XEst1[:2000]\n",
    "        XEst=np.concatenate((XEst,XEst1[4000:6000]))\n",
    "        XEst=np.concatenate((XEst,XEst1[8000:10000]))\n",
    "        XEst=np.concatenate((XEst,XEst1[12000:14000,]))\n",
    "        \n",
    "        YEst = YEst1[:2000]    \n",
    "        YEst=np.concatenate((YEst,YEst1[4000:6000]))\n",
    "        YEst=np.concatenate((YEst,YEst1[8000:10000]))\n",
    "        YEst=np.concatenate((YEst,YEst1[12000:14000]))\n",
    "        TrainMyClassifierParameters = []\n",
    "        if Algorithm ==\"SVM\":\n",
    "            TrainMyClassifierParameters.append({'C': 1e5, 'gamma': 0.3 })\n",
    "        elif Algorithm ==\"RVM\":\n",
    "            TrainMyClassifierParameters.append({ 'alpha' : 1e-04, 'beta' : 1e-04 })\n",
    "        elif Algorithm ==\"GP\":\n",
    "            TrainMyClassifierParameters.append({'length_scale' : 10 })\n",
    "        TrainMyClassifierParameters.append(Algorithm)\n",
    "        \n",
    "        y_pred, scores, params = TrainMyClassifier(XEst,YEst,XValid,TrainMyClassifierParameters)\n",
    "#         print ('Support vectors')\n",
    "#         print (params.n_support_)\n",
    "        c_m, df, a_s  = MyConfusionMatrix(y_pred, YValid,['One','Two','Three','Four','Five'])\n",
    "        \n",
    "        YTrain.append(y_pred)\n",
    "        EstParameters.append(params)       \n",
    "        EstConfMatrices.append(df)       \n",
    "        ConfMatrix=ConfMatrix+c_m  \n",
    "    ConfMatrix = ConfMatrix/5   \n",
    "    return YTrain,EstParameters, EstConfMatrices,ConfMatrix"
   ]
  },
  {
   "cell_type": "markdown",
   "metadata": {},
   "source": [
    "## MyConfusionMatrix function"
   ]
  },
  {
   "cell_type": "code",
   "execution_count": 4,
   "metadata": {
    "collapsed": true
   },
   "outputs": [],
   "source": [
    "def MyConfusionMatrix(Y,YValidate,ClassNames):\n",
    "    c_r = classification_report(YValidate, Y)\n",
    "    c_m = confusion_matrix(YValidate, Y)\n",
    "    c_m = np.round((c_m / c_m.astype(np.float).sum(axis=0)), 3)\n",
    "    a_s = accuracy_score(YValidate, Y)\n",
    "    # labels = ['One','Two','Three','Four','Five'] - This is the format of the labels\n",
    "    labels = ClassNames\n",
    "    df = pd.DataFrame(c_m, dtype='str', index=labels)\n",
    "    df.columns = ClassNames\n",
    "    return c_m, df, a_s "
   ]
  },
  {
   "cell_type": "markdown",
   "metadata": {},
   "source": [
    "## TestMyClassifier function"
   ]
  },
  {
   "cell_type": "code",
   "execution_count": 5,
   "metadata": {
    "collapsed": true
   },
   "outputs": [],
   "source": [
    "def TestMyClassifier(XTest, Parameters, EstParameters):\n",
    "    Ytests=[]\n",
    "    if Parameters[1] == 'SVM':\n",
    "        print(\"Predicting class on the test set\")\n",
    "        for pred_svc in EstParameters:\n",
    "            t0 = time()\n",
    "            Ytest=pred_svc.predict(XTest)\n",
    "#             Ytest=pred_svc.predict_proba(XTest)\n",
    "            Ytests.append(Ytest)\n",
    "            print(\"done in %0.3fs\" % (time() - t0))\n",
    "            print(Ytest.shape)\n",
    "    elif Parameters[1] == 'RVM':\n",
    "        print(\"Predicting class on the test set\")\n",
    "        for pred_rvc in EstParameters:\n",
    "            t0 = time()\n",
    "            Ytest=pred_rvc.predict(XTest)\n",
    "#             Ytest=pred_svc.predict_proba(XTest)\n",
    "            Ytests.append(Ytest)\n",
    "            print(\"done in %0.3fs\" % (time() - t0))\n",
    "            print(Ytest)\n",
    "    elif Parameters[1] == 'GP':\n",
    "        print(\"Predicting class on the test set\")\n",
    "        for pred_gp in EstParameters:\n",
    "            t0 = time()\n",
    "            Ytest=pred_gp.predict(XTest)\n",
    "#             Ytest=pred_svc.predict_proba(XTest)\n",
    "            Ytests.append(Ytest)\n",
    "            print(\"done in %0.3fs\" % (time() - t0))\n",
    "            print(Ytest)\n",
    "    return Ytests"
   ]
  },
  {
   "cell_type": "markdown",
   "metadata": {},
   "source": [
    "## Code for experiment testing"
   ]
  },
  {
   "cell_type": "code",
   "execution_count": 6,
   "metadata": {
    "scrolled": false
   },
   "outputs": [
    {
     "name": "stdout",
     "output_type": "stream",
     "text": [
      "Fitting the classifier to the training set\n",
      "done in 3.900s\n",
      "Fitting the classifier to the training set\n",
      "done in 3.641s\n",
      "Fitting the classifier to the training set\n",
      "done in 3.439s\n",
      "Fitting the classifier to the training set\n",
      "done in 3.725s\n",
      "Fitting the classifier to the training set\n",
      "done in 3.913s\n",
      "[         One    Two  Three   Four   Five\n",
      "One    0.989    0.0  0.006    0.0    0.0\n",
      "Two    0.005   0.97    0.0  0.014    0.0\n",
      "Three  0.005  0.003  0.984  0.002  0.005\n",
      "Four     0.0  0.028  0.003  0.975  0.006\n",
      "Five     0.0    0.0  0.008  0.008  0.989,          One    Two  Three   Four   Five\n",
      "One    0.974  0.002  0.004    0.0  0.001\n",
      "Two     0.01  0.978    0.0  0.013    0.0\n",
      "Three  0.006    0.0  0.978    0.0  0.005\n",
      "Four     0.0  0.018  0.004  0.984  0.003\n",
      "Five    0.01  0.001  0.014  0.004  0.991,          One    Two  Three   Four   Five\n",
      "One    0.979    0.0  0.001  0.001    0.0\n",
      "Two    0.007  0.974  0.003   0.01  0.001\n",
      "Three  0.009    0.0  0.983  0.001  0.009\n",
      "Four   0.004  0.026  0.004   0.98  0.004\n",
      "Five   0.001    0.0  0.009  0.008  0.986,          One    Two  Three   Four   Five\n",
      "One     0.98  0.001  0.005    0.0    0.0\n",
      "Two    0.005   0.98  0.001  0.014  0.003\n",
      "Three  0.008  0.001  0.986  0.001  0.014\n",
      "Four   0.005  0.017  0.001  0.978  0.005\n",
      "Five   0.002    0.0  0.007  0.007  0.979,          One    Two  Three   Four   Five\n",
      "One    0.985  0.008  0.004    0.0  0.001\n",
      "Two    0.007  0.985    0.0   0.01    0.0\n",
      "Three  0.007    0.0   0.99  0.003  0.006\n",
      "Four     0.0  0.008    0.0  0.985  0.009\n",
      "Five     0.0    0.0  0.006  0.003  0.984]\n",
      "[[  9.81400000e-01   2.20000000e-03   4.00000000e-03   2.00000000e-04\n",
      "    4.00000000e-04]\n",
      " [  6.80000000e-03   9.77400000e-01   8.00000000e-04   1.22000000e-02\n",
      "    8.00000000e-04]\n",
      " [  7.00000000e-03   8.00000000e-04   9.84200000e-01   1.40000000e-03\n",
      "    7.80000000e-03]\n",
      " [  1.80000000e-03   1.94000000e-02   2.40000000e-03   9.80400000e-01\n",
      "    5.40000000e-03]\n",
      " [  2.60000000e-03   2.00000000e-04   8.80000000e-03   6.00000000e-03\n",
      "    9.85800000e-01]]\n",
      "Predicting class on the test set\n",
      "done in 0.245s\n",
      "(5000,)\n",
      "done in 0.287s\n",
      "(5000,)\n",
      "done in 0.213s\n",
      "(5000,)\n",
      "done in 0.230s\n",
      "(5000,)\n",
      "done in 0.232s\n",
      "(5000,)\n"
     ]
    }
   ],
   "source": [
    "# ########################################################################################\n",
    "# Code for experiment testing ############################################################\n",
    "# ########################################################################################\n",
    "\n",
    "mat1 = scipy.loadmat('Proj2FeatVecsSet1.mat')\n",
    "mat2 = scipy.loadmat('Proj2TargetOutputsSet1.mat')\n",
    "data_set =  mat1['Proj2FeatVecsSet1']\n",
    "data_target = mat2['Proj2TargetOutputsSet1']\n",
    "\n",
    "number_labels = []\n",
    "for ars in data_target:\n",
    "    if np.all(ars == [1, -1, -1, -1, -1]):\n",
    "        ars = 1\n",
    "        number_labels.append(ars)\n",
    "    elif np.all(ars == [-1, 1, -1, -1, -1]):\n",
    "        ars = 2\n",
    "        number_labels.append(ars)\n",
    "    elif np.all(ars == [-1, -1, 1, -1, -1]):\n",
    "        ars = 3\n",
    "        number_labels.append(ars)\n",
    "    elif np.all(ars == [-1, -1, -1, 1, -1]):\n",
    "        ars = 4\n",
    "        number_labels.append(ars)\n",
    "    elif np.all(ars == [-1, -1, -1, -1, 1]):\n",
    "        ars = 5\n",
    "        number_labels.append(ars)\n",
    "number_labels = np.asarray(number_labels)\n",
    "\n",
    "X_train, X_test, y_train, y_test = train_test_split(\n",
    "    data_set, number_labels, test_size=0.20, stratify = data_target)#, random_state=39)\n",
    "YTrain,EstParameters, EstConfMatrices,ConfMatrix = MyCrossValidate(X_train,y_train,5,'SVM')\n",
    "# print EstParameters\n",
    "print EstConfMatrices\n",
    "print ConfMatrix\n",
    "Ytest=TestMyClassifier(X_test, [{'C': 1e5, 'gamma': 0.3 }, 'SVM'], EstParameters)\n",
    "# print Ytest"
   ]
  },
  {
   "cell_type": "code",
   "execution_count": null,
   "metadata": {
    "collapsed": true
   },
   "outputs": [],
   "source": []
  },
  {
   "cell_type": "code",
   "execution_count": null,
   "metadata": {
    "collapsed": true
   },
   "outputs": [],
   "source": []
  }
 ],
 "metadata": {
  "kernelspec": {
   "display_name": "Python 2",
   "language": "python",
   "name": "python2"
  },
  "language_info": {
   "codemirror_mode": {
    "name": "ipython",
    "version": 2
   },
   "file_extension": ".py",
   "mimetype": "text/x-python",
   "name": "python",
   "nbconvert_exporter": "python",
   "pygments_lexer": "ipython2",
   "version": "2.7.14"
  }
 },
 "nbformat": 4,
 "nbformat_minor": 2
}
