{
 "cells": [
  {
   "cell_type": "code",
   "execution_count": 6,
   "metadata": {},
   "outputs": [
    {
     "name": "stdout",
     "output_type": "stream",
     "text": [
      "(25000, 60)\n",
      "(25000, 5)\n"
     ]
    }
   ],
   "source": [
    "import matplotlib.pyplot as plt\n",
    "import matplotlib.image as mpimg\n",
    "import numpy as np\n",
    "import scipy.io as sio\n",
    "import os\n",
    "from time import time\n",
    "\n",
    "# Load image data\n",
    "data_load_1 = sio.loadmat('Proj2FeatVecsSet1.mat')\n",
    "data_load_2 = sio.loadmat('Proj2TargetOutputsSet1.mat')\n",
    "data_set = data_load_1['Proj2FeatVecsSet1']\n",
    "data_target = data_load_2['Proj2TargetOutputsSet1']\n",
    "\n",
    "print(data_set.shape)\n",
    "print(data_target.shape)"
   ]
  },
  {
   "cell_type": "code",
   "execution_count": 7,
   "metadata": {
    "collapsed": true,
    "scrolled": true
   },
   "outputs": [],
   "source": [
    "# Divide my target data into nice 1-D classifier\n",
    "number_labels = []\n",
    "for ars in data_target:\n",
    "    if np.all(ars == [1,-1,-1,-1,-1]):\n",
    "        ars = 1\n",
    "        number_labels.append(ars)\n",
    "    elif np.all(ars == [-1,1,-1,-1,-1]):\n",
    "        ars = 2\n",
    "        number_labels.append(ars)\n",
    "    elif np.all(ars == [-1,-1,1,-1,-1]):\n",
    "        ars = 3\n",
    "        number_labels.append(ars)\n",
    "    elif np.all(ars == [-1,-1,-1,1,-1]):\n",
    "        ars = 4\n",
    "        number_labels.append(ars)\n",
    "    elif np.all(ars == [-1,-1,-1,-1,1]):\n",
    "        ars = 5\n",
    "        number_labels.append(ars)\n",
    "number_labels = np.asarray(number_labels)"
   ]
  },
  {
   "cell_type": "code",
   "execution_count": 9,
   "metadata": {},
   "outputs": [
    {
     "data": {
      "text/plain": [
       "(25000, 9)"
      ]
     },
     "execution_count": 9,
     "metadata": {},
     "output_type": "execute_result"
    }
   ],
   "source": [
    "from sklearn.decomposition import PCA\n",
    "from skimage.transform import rescale\n",
    "from sklearn.cluster import KMeans\n",
    "import numpy as np\n",
    "from time import time\n",
    "\n",
    "#Using PCA\n",
    "pca = PCA(n_components=9)\n",
    "reduced_data = pca.fit_transform(data_set)\n",
    "reduced_data.shape"
   ]
  },
  {
   "cell_type": "code",
   "execution_count": 10,
   "metadata": {
    "collapsed": true
   },
   "outputs": [],
   "source": [
    "from sklearn.model_selection import train_test_split\n",
    "# #############################################################################\n",
    "# Split into a training set and a test set using a stratified k fold\n",
    "\n",
    "# split into a training and testing set\n",
    "X_train, X_test, y_train, y_test = train_test_split(\n",
    "    reduced_data, number_labels, test_size=0.20, stratify = number_labels)#, random_state=39)"
   ]
  },
  {
   "cell_type": "code",
   "execution_count": 11,
   "metadata": {},
   "outputs": [
    {
     "name": "stdout",
     "output_type": "stream",
     "text": [
      "(20000, 9)\n",
      "(5000, 9)\n",
      "(20000,)\n",
      "(5000,)\n"
     ]
    }
   ],
   "source": [
    "print(X_train.shape)\n",
    "print(X_test.shape)\n",
    "print(y_train.shape)\n",
    "print(y_test.shape)"
   ]
  },
  {
   "cell_type": "markdown",
   "metadata": {},
   "source": [
    "## Gaussian Process"
   ]
  },
  {
   "cell_type": "code",
   "execution_count": 53,
   "metadata": {},
   "outputs": [
    {
     "name": "stdout",
     "output_type": "stream",
     "text": [
      "Fitting the classifier to the training set\n",
      "done in 5.077s\n"
     ]
    },
    {
     "data": {
      "text/plain": [
       "0.99745810519309452"
      ]
     },
     "execution_count": 53,
     "metadata": {},
     "output_type": "execute_result"
    }
   ],
   "source": [
    "from sklearn.gaussian_process import GaussianProcessRegressor\n",
    "from sklearn.model_selection import GridSearchCV\n",
    "from sklearn.multiclass import OneVsRestClassifier\n",
    "# #############################################################################\n",
    "# Train a GPR classification model\n",
    "print(\"Fitting the classifier to the training set\")\n",
    "from time import time\n",
    "\n",
    "t0 = time()\n",
    "# param_grid = {'C': [1e3, 5e3, 1e4, 5e4, 1e5],\n",
    "#               'gamma': [0.0001, 0.0005, 0.001, 0.005, 0.01, 0.1], }\n",
    "clf_gp = GaussianProcessRegressor() # Uses RBF as default\n",
    "#clf_gp = OneVsRestClassifier(clf_gp)\n",
    "#clf_gp = GridSearchCV(clf_gp, param_grid)\n",
    "\n",
    "clf_gp.fit(X_test, y_test)\n",
    "\n",
    "print(\"done in %0.3fs\" % (time() - t0))\n",
    "clf_gp.score(X_test, y_test)"
   ]
  },
  {
   "cell_type": "code",
   "execution_count": 43,
   "metadata": {
    "scrolled": true
   },
   "outputs": [
    {
     "name": "stdout",
     "output_type": "stream",
     "text": [
      "Predicting class on the test set\n",
      "done in 24.122s\n",
      "             precision    recall  f1-score   support\n",
      "\n",
      "          1       0.93      0.90      0.91      4000\n",
      "          2       0.59      0.64      0.61      4000\n",
      "          3       0.76      0.66      0.71      4000\n",
      "          4       0.55      0.65      0.59      4000\n",
      "          5       0.71      0.61      0.66      4000\n",
      "\n",
      "avg / total       0.70      0.69      0.70     20000\n",
      "\n",
      "[[3592  145   76  123   64]\n",
      " [  66 2566  149  974  245]\n",
      " [ 111  358 2654  465  412]\n",
      " [  37  879  179 2611  294]\n",
      " [  52  431  455  617 2445]]\n"
     ]
    }
   ],
   "source": [
    "from sklearn.metrics import classification_report\n",
    "from sklearn.metrics import confusion_matrix\n",
    "# #############################################################################\n",
    "# Quantitative evaluation of the model quality on the test set\n",
    "print(\"Predicting class on the test set\")\n",
    "t0 = time()\n",
    "y_pred = clf_gp.predict(X_train)\n",
    "print(\"done in %0.3fs\" % (time() - t0))\n",
    "# count = 0\n",
    "# for values in y_pred:\n",
    "#     if y_pred[count] >=1:\n",
    "#         y_pred[count] = 1\n",
    "#         count = count+1\n",
    "#     else:\n",
    "#         y_pred[count] = 0\n",
    "#         count = count+1\n",
    "#print(y_pred)\n",
    "y_pred = y_pred.astype(int) \n",
    "#print(y_pred)\n",
    "print(classification_report(y_train, y_pred))\n",
    "print(confusion_matrix(y_train, y_pred))"
   ]
  },
  {
   "cell_type": "markdown",
   "metadata": {},
   "source": [
    "## RVM"
   ]
  },
  {
   "cell_type": "code",
   "execution_count": 83,
   "metadata": {},
   "outputs": [
    {
     "name": "stdout",
     "output_type": "stream",
     "text": [
      "Fitting the classifier to the training set\n",
      "done in 94.314s\n"
     ]
    },
    {
     "data": {
      "text/plain": [
       "0.92159999999999997"
      ]
     },
     "execution_count": 83,
     "metadata": {},
     "output_type": "execute_result"
    }
   ],
   "source": [
    "# This is running very slow, why!?!?!?\n",
    "from sklearn.model_selection import GridSearchCV\n",
    "from skrvm import RVR\n",
    "from skrvm import RVC\n",
    "# #############################################################################\n",
    "# Train a RVM classification model\n",
    "print(\"Fitting the classifier to the training set\")\n",
    "t0 = time()\n",
    "clf_rvm = RVC(kernel='rbf',n_iter=1)\n",
    "#clf_rvm = OneVsOneClassifier(clf_rvm)\n",
    "# clf_rvm.fit(X_train, y_train)\n",
    "clf_rvm.fit(X_test, y_test)\n",
    "\n",
    "# RVR(alpha=1e-06, beta=1e-06, beta_fixed=False, bias_used=True, coef0=0.0,\n",
    "# coef1=None, degree=3, kernel='rbf', n_iter=1000,\n",
    "# threshold_alpha=1000000000.0, tol=0.001, verbose=False)\n",
    "print(\"done in %0.3fs\" % (time() - t0))\n",
    "# clf_rvm.score(X_train, y_train)\n",
    "clf_rvm.score(X_test, y_test)"
   ]
  },
  {
   "cell_type": "code",
   "execution_count": 84,
   "metadata": {},
   "outputs": [
    {
     "name": "stdout",
     "output_type": "stream",
     "text": [
      "Predicting class on the test set\n",
      "             precision    recall  f1-score   support\n",
      "\n",
      "          1       0.95      0.96      0.96      4000\n",
      "          2       0.91      0.86      0.88      4000\n",
      "          3       0.95      0.93      0.94      4000\n",
      "          4       0.84      0.89      0.86      4000\n",
      "          5       0.93      0.93      0.93      4000\n",
      "\n",
      "avg / total       0.92      0.91      0.91     20000\n",
      "\n",
      "[[3857   51   46   17   29]\n",
      " [  60 3438   14  482    6]\n",
      " [  70    9 3712   56  153]\n",
      " [  42  270   36 3545  107]\n",
      " [  35   11   95  120 3739]]\n"
     ]
    }
   ],
   "source": [
    "from sklearn.metrics import classification_report\n",
    "from sklearn.metrics import confusion_matrix\n",
    "# # #############################################################################\n",
    "# # Quantitative evaluation of the model quality on the test set\n",
    "print(\"Predicting class on the test set\")\n",
    "# t0 = time()\n",
    "# y_pred = clf_rvm.predict(X_test)\n",
    "y_pred = clf_rvm.predict(X_train)\n",
    "print(classification_report(y_train, y_pred))\n",
    "print(confusion_matrix(y_train, y_pred))"
   ]
  },
  {
   "cell_type": "code",
   "execution_count": null,
   "metadata": {
    "collapsed": true
   },
   "outputs": [],
   "source": [
    "from skrvm import RVC\n",
    "clf_rvr = RVC(n_iter=10)\n",
    "print(\"Fitting the classifier to the training set\")\n",
    "t0 = time()\n",
    "clf_rvr.fit(X_train, y_train)\n",
    "print(\"done in %0.3fs\" % (time() - t0))\n",
    "clf.score(X_train, y_train)\n",
    "# from sklearn.multiclass import OneVsOneClassifier\n",
    "# from skrvm import RVR\n",
    "# clf_rvr = RVR(kernel='rbf',n_iter=20)\n",
    "# clf_rvr1 = OneVsOneClassifier(clf_rvr)\n",
    "# print(\"Fitting the classifier to the training set\")\n",
    "# t0 = time()\n",
    "# clf_rvr1.fit(X_train, y_train)\n",
    "# print(\"done in %0.3fs\" % (time() - t0))\n",
    "# clf.score(X_train, y_train)"
   ]
  },
  {
   "cell_type": "code",
   "execution_count": null,
   "metadata": {
    "collapsed": true
   },
   "outputs": [],
   "source": [
    "clf_rvr.score(X_train, y_train)"
   ]
  },
  {
   "cell_type": "code",
   "execution_count": null,
   "metadata": {
    "collapsed": true
   },
   "outputs": [],
   "source": [
    "from sklearn.metrics import classification_report\n",
    "from sklearn.metrics import confusion_matrix\n",
    "# # #############################################################################\n",
    "# # Quantitative evaluation of the model quality on the test set\n",
    "print(\"Predicting class on the test set\")\n",
    "# t0 = time()\n",
    "y_pred = clf_rvr.predict(X_test)\n",
    "# print(\"done in %0.3fs\" % (time() - t0))\n",
    "\n",
    "# print(y_pred)\n",
    "# y_pred = y_pred.astype(int)\n",
    "print(y_pred)\n",
    "print(classification_report(y_test, y_pred))\n",
    "print(confusion_matrix(y_test, y_pred))"
   ]
  },
  {
   "cell_type": "markdown",
   "metadata": {},
   "source": [
    "## SVM"
   ]
  },
  {
   "cell_type": "code",
   "execution_count": 80,
   "metadata": {},
   "outputs": [],
   "source": [
    "from sklearn.svm import SVC\n",
    "from sklearn.multiclass import OneVsOneClassifier\n",
    "def TrainMyClassifier(X_train,y_train):\n",
    "    # #############################################################################\n",
    "    # Train a SVM classification model\n",
    "    print(\"Fitting the classifier to the training set\")\n",
    "    t0 = time()\n",
    "# #############################################################################\n",
    "#     cannot use either GridSearchCV or OneVsOneClassifier !!!\n",
    "# #############################################################################\n",
    "    clf_svc = SVC(kernel='rbf', class_weight='balanced', C=1e3,gamma=0.1, decision_function_shape='ovo')\n",
    "    clf_svc = clf_svc.fit(X_test, y_test)\n",
    "    print(\"done in %0.3fs\" % (time() - t0))\n",
    "    # build EstParameters list\n",
    "    EstParameters = []\n",
    "    EstParameters.append(clf_svc.support_)\n",
    "    EstParameters.append(clf_svc.support_vectors_)\n",
    "    EstParameters.append(clf_svc.n_support_)\n",
    "    EstParameters.append(clf_svc.dual_coef_)\n",
    "    EstParameters.append(clf_svc.intercept_)\n",
    "    EstParameters.append(clf_svc.probA_)\n",
    "    EstParameters.append(clf_svc.probB_)\n",
    "    EstParameters.append(clf_svc.fit_status_)\n",
    "    EstParameters.append(clf_svc._sparse)\n",
    "    EstParameters.append(clf_svc.shape_fit_)\n",
    "    EstParameters.append(clf_svc._dual_coef_)\n",
    "    EstParameters.append(clf_svc._intercept_)\n",
    "    EstParameters.append(clf_svc._gamma)\n",
    "    EstParameters.append(clf_svc.classes_)\n",
    "    hyperParams=clf_svc.get_params()\n",
    "    EstParameters.append(hyperParams)\n",
    "    return EstParameters\n",
    "    # build a new estimator\n",
    "#     pred_svc=SVC()\n",
    "#     pred_svc.support_ = clf_svc.support_\n",
    "#     pred_svc.support_vectors_ = clf_svc.support_vectors_\n",
    "#     pred_svc.n_support_ = clf_svc.n_support_\n",
    "#     pred_svc.dual_coef_ = clf_svc.dual_coef_\n",
    "#     pred_svc.intercept_ = clf_svc.intercept_\n",
    "#     pred_svc.probA_ = clf_svc.probA_\n",
    "#     pred_svc.probB_ = clf_svc.probB_\n",
    "#     pred_svc.fit_status_ = clf_svc.fit_status_\n",
    "#     pred_svc._sparse = clf_svc._sparse\n",
    "#     pred_svc.shape_fit_ = clf_svc.shape_fit_\n",
    "#     pred_svc._dual_coef_ = clf_svc._dual_coef_\n",
    "#     pred_svc._intercept_ = clf_svc._intercept_\n",
    "#     pred_svc._gamma = clf_svc._gamma\n",
    "#     pred_svc.classes_ = clf_svc.classes_\n",
    "#     pred_svc.set_params(**hyperParams)\n",
    "    # predict\n",
    "#     y_pred = pred_svc.predict(X_test)\n",
    "#     print(\"done in %0.3fs\" % (time() - t0))\n",
    "#     print(y_pred)\n",
    "#     print(classification_report(y_test, y_pred))\n",
    "#     print(confusion_matrix(y_test, y_pred))\n",
    "#     print(clf_svc.score(X_test, y_test))\n",
    "#     print(clf_svc.best_params_)\n",
    "#     return clf_svc"
   ]
  },
  {
   "cell_type": "code",
   "execution_count": 81,
   "metadata": {
    "collapsed": true
   },
   "outputs": [],
   "source": [
    "from sklearn.metrics import classification_report\n",
    "from sklearn.metrics import confusion_matrix\n",
    "# #############################################################################\n",
    "# Quantitative evaluation of the model quality on the test set\n",
    "def TestMyClassifier(X_test, EstParameters):\n",
    "    print(\"Predicting class on the test set\")\n",
    "    t0 = time()\n",
    "    pred_svc=SVC()\n",
    "    pred_svc.support_ = EstParameters[0]\n",
    "    pred_svc.support_vectors_ = EstParameters[1]\n",
    "    pred_svc.n_support_ = EstParameters[2]\n",
    "    pred_svc.dual_coef_ = EstParameters[3]\n",
    "    pred_svc.intercept_ = EstParameters[4]\n",
    "    pred_svc.probA_ = EstParameters[5]\n",
    "    pred_svc.probB_ = EstParameters[6]\n",
    "    pred_svc.fit_status_ = EstParameters[7]\n",
    "    pred_svc._sparse = EstParameters[8]\n",
    "    pred_svc.shape_fit_ = EstParameters[9]\n",
    "    pred_svc._dual_coef_ = EstParameters[10]\n",
    "    pred_svc._intercept_ = EstParameters[11]\n",
    "    pred_svc._gamma = EstParameters[12]\n",
    "    pred_svc.classes_ = EstParameters[13]\n",
    "  \n",
    "    pred_svc.set_params(**EstParameters[14])\n",
    "    y_pred = pred_svc.predict(X_test)\n",
    "    print(\"done in %0.3fs\" % (time() - t0))\n",
    "    print(y_pred)\n",
    "    print(classification_report(y_test, y_pred))\n",
    "    print(confusion_matrix(y_test, y_pred))"
   ]
  },
  {
   "cell_type": "code",
   "execution_count": 82,
   "metadata": {},
   "outputs": [
    {
     "name": "stdout",
     "output_type": "stream",
     "text": [
      "Fitting the classifier to the training set\n",
      "done in 0.281s\n",
      "Predicting class on the test set\n",
      "done in 0.105s\n",
      "[5 5 4 ..., 4 4 5]\n",
      "             precision    recall  f1-score   support\n",
      "\n",
      "          1       0.98      0.99      0.99      1000\n",
      "          2       0.94      0.94      0.94      1000\n",
      "          3       0.97      0.97      0.97      1000\n",
      "          4       0.93      0.93      0.93      1000\n",
      "          5       0.96      0.96      0.96      1000\n",
      "\n",
      "avg / total       0.96      0.96      0.96      5000\n",
      "\n",
      "[[989   9   2   0   0]\n",
      " [  2 940   2  56   0]\n",
      " [  7   1 969   1  22]\n",
      " [  3  46   4 928  19]\n",
      " [  4   0  19  18 959]]\n"
     ]
    }
   ],
   "source": [
    "clf_svc = TrainMyClassifier(X_train,y_train)\n",
    "TestMyClassifier(X_test, clf_svc)"
   ]
  },
  {
   "cell_type": "code",
   "execution_count": null,
   "metadata": {
    "collapsed": true
   },
   "outputs": [],
   "source": []
  },
  {
   "cell_type": "code",
   "execution_count": null,
   "metadata": {
    "collapsed": true
   },
   "outputs": [],
   "source": []
  }
 ],
 "metadata": {
  "kernelspec": {
   "display_name": "Python 2",
   "language": "python",
   "name": "python2"
  },
  "language_info": {
   "codemirror_mode": {
    "name": "ipython",
    "version": 2
   },
   "file_extension": ".py",
   "mimetype": "text/x-python",
   "name": "python",
   "nbconvert_exporter": "python",
   "pygments_lexer": "ipython2",
   "version": "2.7.14"
  }
 },
 "nbformat": 4,
 "nbformat_minor": 2
}
