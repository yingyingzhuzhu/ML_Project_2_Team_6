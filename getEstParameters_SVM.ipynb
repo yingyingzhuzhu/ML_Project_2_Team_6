{
 "cells": [
  {
   "cell_type": "code",
   "execution_count": 1,
   "metadata": {},
   "outputs": [
    {
     "name": "stdout",
     "output_type": "stream",
     "text": [
      "(25000, 60)\n",
      "(25000, 5)\n"
     ]
    }
   ],
   "source": [
    "import matplotlib.pyplot as plt\n",
    "import matplotlib.image as mpimg\n",
    "import numpy as np\n",
    "import scipy.io as sio\n",
    "import os\n",
    "from time import time\n",
    "\n",
    "# Load image data\n",
    "data_load_1 = sio.loadmat('Proj2FeatVecsSet1.mat')\n",
    "data_load_2 = sio.loadmat('Proj2TargetOutputsSet1.mat')\n",
    "data_set = data_load_1['Proj2FeatVecsSet1']\n",
    "data_target = data_load_2['Proj2TargetOutputsSet1']\n",
    "\n",
    "print(data_set.shape)\n",
    "print(data_target.shape)"
   ]
  },
  {
   "cell_type": "code",
   "execution_count": 2,
   "metadata": {
    "collapsed": true
   },
   "outputs": [],
   "source": [
    "# Divide my target data into nice 1-D classifier\n",
    "number_labels = []\n",
    "for ars in data_target:\n",
    "    if np.all(ars == [1,-1,-1,-1,-1]):\n",
    "        ars = 1\n",
    "        number_labels.append(ars)\n",
    "    elif np.all(ars == [-1,1,-1,-1,-1]):\n",
    "        ars = 2\n",
    "        number_labels.append(ars)\n",
    "    elif np.all(ars == [-1,-1,1,-1,-1]):\n",
    "        ars = 3\n",
    "        number_labels.append(ars)\n",
    "    elif np.all(ars == [-1,-1,-1,1,-1]):\n",
    "        ars = 4\n",
    "        number_labels.append(ars)\n",
    "    elif np.all(ars == [-1,-1,-1,-1,1]):\n",
    "        ars = 5\n",
    "        number_labels.append(ars)\n",
    "number_labels = np.asarray(number_labels)"
   ]
  },
  {
   "cell_type": "code",
   "execution_count": 3,
   "metadata": {
    "collapsed": true
   },
   "outputs": [],
   "source": [
    "from sklearn.decomposition import PCA\n",
    "from skimage.transform import rescale\n",
    "from sklearn.cluster import KMeans\n",
    "from sklearn.model_selection import train_test_split\n",
    "import numpy as np\n",
    "from time import time\n",
    "\n",
    "#Using PCA\n",
    "pca = PCA(n_components=9)\n",
    "reduced_data = pca.fit_transform(data_set)\n",
    "# #############################################################################\n",
    "# Split into a training set and a test set using a stratified k fold\n",
    "X_train, X_test, y_train, y_test = train_test_split(\n",
    "    reduced_data, number_labels, test_size=0.20, stratify = number_labels)#, random_state=39)"
   ]
  },
  {
   "cell_type": "code",
   "execution_count": 7,
   "metadata": {
    "collapsed": true
   },
   "outputs": [],
   "source": [
    "from sklearn.svm import SVC\n",
    "from sklearn.multiclass import OneVsOneClassifier\n",
    "def TrainMyClassifier(X_train,y_train):\n",
    "    # #############################################################################\n",
    "    # Train a SVM classification model\n",
    "    print(\"Fitting the classifier to the training set\")\n",
    "    t0 = time()\n",
    "# #############################################################################\n",
    "#     cannot use either GridSearchCV or OneVsOneClassifier !!!\n",
    "# #############################################################################\n",
    "    clf_svc = SVC(kernel='rbf', class_weight='balanced', C=1e3,gamma=0.1, decision_function_shape='ovo')\n",
    "    clf_svc = clf_svc.fit(X_test, y_test)\n",
    "    print(\"done in %0.3fs\" % (time() - t0))\n",
    "    # build EstParameters list\n",
    "    EstParameters = []\n",
    "    EstParameters.append(clf_svc.support_)\n",
    "    EstParameters.append(clf_svc.support_vectors_)\n",
    "    EstParameters.append(clf_svc.n_support_)\n",
    "    EstParameters.append(clf_svc.dual_coef_)\n",
    "    EstParameters.append(clf_svc.intercept_)\n",
    "    EstParameters.append(clf_svc.probA_)\n",
    "    EstParameters.append(clf_svc.probB_)\n",
    "    EstParameters.append(clf_svc.fit_status_)\n",
    "    EstParameters.append(clf_svc._sparse)\n",
    "    EstParameters.append(clf_svc.shape_fit_)\n",
    "    EstParameters.append(clf_svc._dual_coef_)\n",
    "    EstParameters.append(clf_svc._intercept_)\n",
    "    EstParameters.append(clf_svc._gamma)\n",
    "    EstParameters.append(clf_svc.classes_)\n",
    "    hyperParams=clf_svc.get_params()\n",
    "    EstParameters.append(hyperParams)\n",
    "#     return EstParameters\n",
    "    # build a new estimator\n",
    "#     pred_svc=SVC()\n",
    "#     pred_svc.support_ = clf_svc.support_\n",
    "#     pred_svc.support_vectors_ = clf_svc.support_vectors_\n",
    "#     pred_svc.n_support_ = clf_svc.n_support_\n",
    "#     pred_svc.dual_coef_ = clf_svc.dual_coef_\n",
    "#     pred_svc.intercept_ = clf_svc.intercept_\n",
    "#     pred_svc.probA_ = clf_svc.probA_\n",
    "#     pred_svc.probB_ = clf_svc.probB_\n",
    "#     pred_svc.fit_status_ = clf_svc.fit_status_\n",
    "#     pred_svc._sparse = clf_svc._sparse\n",
    "#     pred_svc.shape_fit_ = clf_svc.shape_fit_\n",
    "#     pred_svc._dual_coef_ = clf_svc._dual_coef_\n",
    "#     pred_svc._intercept_ = clf_svc._intercept_\n",
    "#     pred_svc._gamma = clf_svc._gamma\n",
    "#     pred_svc.classes_ = clf_svc.classes_\n",
    "#     pred_svc.set_params(**hyperParams)\n",
    "    # predict\n",
    "#     y_pred = pred_svc.predict(X_test)\n",
    "#     print(\"done in %0.3fs\" % (time() - t0))\n",
    "#     print(y_pred)\n",
    "#     print(classification_report(y_test, y_pred))\n",
    "#     print(confusion_matrix(y_test, y_pred))\n",
    "#     print(clf_svc.score(X_test, y_test))\n",
    "#     print(clf_svc.best_params_)\n",
    "    return clf_svc"
   ]
  },
  {
   "cell_type": "code",
   "execution_count": 15,
   "metadata": {
    "collapsed": true
   },
   "outputs": [],
   "source": [
    "# #############################################################################\n",
    "# Quantitative evaluation of the model quality on the test set\n",
    "# input: XTest, Parameters, EstParameters\n",
    "# output: Ytest\n",
    "# #############################################################################\n",
    "def TestMyClassifier(XTest, Parameters, EstParameters):\n",
    "    from sklearn.metrics import classification_report\n",
    "    from sklearn.metrics import confusion_matrix\n",
    "    print(\"Predicting class on the test set\")\n",
    "    t0 = time()\n",
    "#     pred_svc=SVC()\n",
    "#     pred_svc.support_ = EstParameters[0]\n",
    "#     pred_svc.support_vectors_ = EstParameters[1]\n",
    "#     pred_svc.n_support_ = EstParameters[2]\n",
    "#     pred_svc.dual_coef_ = EstParameters[3]\n",
    "#     pred_svc.intercept_ = EstParameters[4]\n",
    "#     pred_svc.probA_ = EstParameters[5]\n",
    "#     pred_svc.probB_ = EstParameters[6]\n",
    "#     pred_svc.fit_status_ = EstParameters[7]\n",
    "#     pred_svc._sparse = EstParameters[8]\n",
    "#     pred_svc.shape_fit_ = EstParameters[9]\n",
    "#     pred_svc._dual_coef_ = EstParameters[10]\n",
    "#     pred_svc._intercept_ = EstParameters[11]\n",
    "#     pred_svc._gamma = EstParameters[12]\n",
    "#     pred_svc.classes_ = EstParameters[13]\n",
    "  \n",
    "#     pred_svc.set_params(**EstParameters[14])\n",
    "    pred_svc = EstParameters\n",
    "    Ytest = pred_svc.predict(XTest)\n",
    "    print(\"done in %0.3fs\" % (time() - t0))\n",
    "#     print(Ytest)\n",
    "#     print(classification_report(y_test, Ytest))\n",
    "#     print(confusion_matrix(y_test, Ytest))\n",
    "    return Ytest"
   ]
  },
  {
   "cell_type": "code",
   "execution_count": 16,
   "metadata": {},
   "outputs": [
    {
     "name": "stdout",
     "output_type": "stream",
     "text": [
      "Fitting the classifier to the training set\n",
      "done in 0.295s\n",
      "Predicting class on the test set\n",
      "done in 0.107s\n",
      "[3 3 1 ..., 1 4 3]\n"
     ]
    }
   ],
   "source": [
    "clf_svc = TrainMyClassifier(X_train,y_train)\n",
    "Ytest=TestMyClassifier(X_test, 1,clf_svc)\n",
    "print(Ytest)"
   ]
  },
  {
   "cell_type": "code",
   "execution_count": null,
   "metadata": {
    "collapsed": true
   },
   "outputs": [],
   "source": []
  },
  {
   "cell_type": "code",
   "execution_count": null,
   "metadata": {
    "collapsed": true
   },
   "outputs": [],
   "source": []
  }
 ],
 "metadata": {
  "kernelspec": {
   "display_name": "Python 2",
   "language": "python",
   "name": "python2"
  },
  "language_info": {
   "codemirror_mode": {
    "name": "ipython",
    "version": 2
   },
   "file_extension": ".py",
   "mimetype": "text/x-python",
   "name": "python",
   "nbconvert_exporter": "python",
   "pygments_lexer": "ipython2",
   "version": "2.7.14"
  }
 },
 "nbformat": 4,
 "nbformat_minor": 2
}
