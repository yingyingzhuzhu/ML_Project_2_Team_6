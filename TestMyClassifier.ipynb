{
 "cells": [
  {
   "cell_type": "code",
   "execution_count": 2,
   "metadata": {
    "collapsed": true
   },
   "outputs": [],
   "source": [
    "# #############################################################################\n",
    "# Quantitative evaluation of the model quality on the test set\n",
    "# input: XTest, Parameters, EstParameters\n",
    "# output: Ytest\n",
    "# #############################################################################\n",
    "def TestMyClassifier(XTest, Parameters, EstParameters):\n",
    "    from sklearn.metrics import classification_report\n",
    "    from sklearn.metrics import confusion_matrix\n",
    "    print(\"Predicting class on the test set\")\n",
    "    t0 = time()\n",
    "#     pred_svc=SVC()\n",
    "#     pred_svc.support_ = EstParameters[0]\n",
    "#     pred_svc.support_vectors_ = EstParameters[1]\n",
    "#     pred_svc.n_support_ = EstParameters[2]\n",
    "#     pred_svc.dual_coef_ = EstParameters[3]\n",
    "#     pred_svc.intercept_ = EstParameters[4]\n",
    "#     pred_svc.probA_ = EstParameters[5]\n",
    "#     pred_svc.probB_ = EstParameters[6]\n",
    "#     pred_svc.fit_status_ = EstParameters[7]\n",
    "#     pred_svc._sparse = EstParameters[8]\n",
    "#     pred_svc.shape_fit_ = EstParameters[9]\n",
    "#     pred_svc._dual_coef_ = EstParameters[10]\n",
    "#     pred_svc._intercept_ = EstParameters[11]\n",
    "#     pred_svc._gamma = EstParameters[12]\n",
    "#     pred_svc.classes_ = EstParameters[13]\n",
    "  \n",
    "#     pred_svc.set_params(**EstParameters[14])\n",
    "    pred_svc = EstParameters\n",
    "    Ytest = pred_svc.predict(XTest)\n",
    "    print(\"done in %0.3fs\" % (time() - t0))\n",
    "#     print(Ytest)\n",
    "#     print(classification_report(y_test, Ytest))\n",
    "#     print(confusion_matrix(y_test, Ytest))\n",
    "    return Ytest"
   ]
  },
  {
   "cell_type": "code",
   "execution_count": null,
   "metadata": {
    "collapsed": true
   },
   "outputs": [],
   "source": []
  }
 ],
 "metadata": {
  "kernelspec": {
   "display_name": "Python 2",
   "language": "python",
   "name": "python2"
  },
  "language_info": {
   "codemirror_mode": {
    "name": "ipython",
    "version": 2
   },
   "file_extension": ".py",
   "mimetype": "text/x-python",
   "name": "python",
   "nbconvert_exporter": "python",
   "pygments_lexer": "ipython2",
   "version": "2.7.14"
  }
 },
 "nbformat": 4,
 "nbformat_minor": 2
}
